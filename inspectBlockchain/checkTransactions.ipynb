{
 "cells": [
  {
   "cell_type": "code",
   "execution_count": 1,
   "metadata": {},
   "outputs": [],
   "source": [
    "from web3 import Web3, HTTPProvider"
   ]
  },
  {
   "cell_type": "markdown",
   "metadata": {},
   "source": [
    "## Connect to blockchain"
   ]
  },
  {
   "cell_type": "code",
   "execution_count": 2,
   "metadata": {
    "scrolled": true
   },
   "outputs": [],
   "source": [
    "w3 = Web3(Web3.HTTPProvider('http://127.0.0.1:7545'))"
   ]
  },
  {
   "cell_type": "markdown",
   "metadata": {},
   "source": [
    "## See all transactions"
   ]
  },
  {
   "cell_type": "code",
   "execution_count": 37,
   "metadata": {
    "scrolled": false
   },
   "outputs": [
    {
     "data": {
      "text/plain": [
       "[AttributeDict({'blockHash': HexBytes('0x483cc253413dd5e92227bdfe89ae381e7c64b8c69424df2e2c03318b78994068'),\n",
       "  'blockNumber': 5,\n",
       "  'from': '0xC12dB86A64A82e24e55519c5e04CDbf93a7Cc565',\n",
       "  'gas': 90000,\n",
       "  'gasPrice': 1,\n",
       "  'hash': HexBytes('0x46316d1e0ed28784b185f62ac1198cc40caba8aaabbff88ceb63414697aeb800'),\n",
       "  'input': '0xcc9ab2676b6c617573000000000000000000000000000000000000000000000000000000',\n",
       "  'nonce': 4,\n",
       "  'to': '0x371e179775186e6e98c6D3407446487E7a97B9d1',\n",
       "  'transactionIndex': 0,\n",
       "  'value': 0}),\n",
       " AttributeDict({'blockHash': HexBytes('0x1052e61891705f3ff1b1144cbe87171116cf71b806fa56e2c52013849cf6a759'),\n",
       "  'blockNumber': 6,\n",
       "  'from': '0x097E0C57bC68b13b930d10c967B8B91e1798493A',\n",
       "  'gas': 90000,\n",
       "  'gasPrice': 1,\n",
       "  'hash': HexBytes('0x84ab86dfa6e2538d9f19d574081d603ec5011674838ecdf7ab1d9912e13615a8'),\n",
       "  'input': '0xcc9ab26765646f6172646f00000000000000000000000000000000000000000000000000',\n",
       "  'nonce': 0,\n",
       "  'to': '0x371e179775186e6e98c6D3407446487E7a97B9d1',\n",
       "  'transactionIndex': 0,\n",
       "  'value': 0}),\n",
       " AttributeDict({'blockHash': HexBytes('0xf88b0d4eae065b8b4bf8ed0d0cdeffd667b73d6b54ab49bef3bb7ebf9c7d31d8'),\n",
       "  'blockNumber': 7,\n",
       "  'from': '0x10c0C8F1E3Ddace590b8D47639078ac2307Af6b8',\n",
       "  'gas': 90000,\n",
       "  'gasPrice': 1,\n",
       "  'hash': HexBytes('0x88689f97281f59547be0d30f97bc9a76a67521df5dcfa48adcf975d437ebf698'),\n",
       "  'input': '0xcc9ab2677374657665000000000000000000000000000000000000000000000000000000',\n",
       "  'nonce': 0,\n",
       "  'to': '0x371e179775186e6e98c6D3407446487E7a97B9d1',\n",
       "  'transactionIndex': 0,\n",
       "  'value': 0})]"
      ]
     },
     "execution_count": 37,
     "metadata": {},
     "output_type": "execute_result"
    }
   ],
   "source": [
    "allTransactions = [w3.eth.getTransactionFromBlock(i, 0) \\\n",
    "                   for i in range(5, w3.eth.blockNumber+1)]\n",
    "\n",
    "allTransactions"
   ]
  },
  {
   "cell_type": "markdown",
   "metadata": {},
   "source": [
    "## Decode transactions"
   ]
  },
  {
   "cell_type": "code",
   "execution_count": 42,
   "metadata": {},
   "outputs": [
    {
     "name": "stdout",
     "output_type": "stream",
     "text": [
      "Transaction:\n",
      "0xcc9ab2676b6c617573000000000000000000000000000000000000000000000000000000\n",
      "bytearray(b'\\xcc\\x9a\\xb2gklaus\\x00\\x00\\x00\\x00\\x00\\x00\\x00\\x00\\x00\\x00\\x00\\x00\\x00\\x00\\x00\\x00\\x00\\x00\\x00\\x00\\x00\\x00\\x00\\x00\\x00\\x00\\x00') \n",
      "\n",
      "Transaction:\n",
      "0xcc9ab26765646f6172646f00000000000000000000000000000000000000000000000000\n",
      "bytearray(b'\\xcc\\x9a\\xb2gedoardo\\x00\\x00\\x00\\x00\\x00\\x00\\x00\\x00\\x00\\x00\\x00\\x00\\x00\\x00\\x00\\x00\\x00\\x00\\x00\\x00\\x00\\x00\\x00\\x00\\x00') \n",
      "\n",
      "Transaction:\n",
      "0xcc9ab2677374657665000000000000000000000000000000000000000000000000000000\n",
      "bytearray(b'\\xcc\\x9a\\xb2gsteve\\x00\\x00\\x00\\x00\\x00\\x00\\x00\\x00\\x00\\x00\\x00\\x00\\x00\\x00\\x00\\x00\\x00\\x00\\x00\\x00\\x00\\x00\\x00\\x00\\x00\\x00\\x00') \n",
      "\n"
     ]
    }
   ],
   "source": [
    "for transaction in allTransactions:\n",
    "    print(\"Transaction:\")\n",
    "    print(transaction['input'])\n",
    "    print(bytearray.fromhex(transaction['input'][2:]), '\\n')\n"
   ]
  },
  {
   "cell_type": "code",
   "execution_count": null,
   "metadata": {},
   "outputs": [],
   "source": []
  }
 ],
 "metadata": {
  "kernelspec": {
   "display_name": "Python 3",
   "language": "python",
   "name": "python3"
  },
  "language_info": {
   "codemirror_mode": {
    "name": "ipython",
    "version": 3
   },
   "file_extension": ".py",
   "mimetype": "text/x-python",
   "name": "python",
   "nbconvert_exporter": "python",
   "pygments_lexer": "ipython3",
   "version": "3.6.4"
  }
 },
 "nbformat": 4,
 "nbformat_minor": 2
}
